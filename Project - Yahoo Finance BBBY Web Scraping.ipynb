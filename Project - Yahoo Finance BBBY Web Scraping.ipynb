{
 "cells": [
  {
   "cell_type": "markdown",
   "id": "9f37c846",
   "metadata": {},
   "source": [
    "# Web Scrapping Project - Retail Store Stock Prices"
   ]
  },
  {
   "cell_type": "code",
   "execution_count": 1,
   "id": "8d6a9f76",
   "metadata": {},
   "outputs": [],
   "source": [
    "# Import libraries\n",
    "\n",
    "from bs4 import BeautifulSoup\n",
    "import requests\n",
    "import time\n",
    "import datetime\n",
    "\n",
    "import smtplib\n"
   ]
  },
  {
   "cell_type": "markdown",
   "id": "7a3c3a71",
   "metadata": {},
   "source": [
    "The first thing to do is to establish a connection to the retail store stock page on Yahoo Finance."
   ]
  },
  {
   "cell_type": "code",
   "execution_count": 2,
   "id": "12608771",
   "metadata": {},
   "outputs": [
    {
     "name": "stdout",
     "output_type": "stream",
     "text": [
      "\n",
      "                  Bed Bath & Beyond Inc. (BBBY)\n",
      "                 \n",
      "\n",
      "                    0.1085\n",
      "                   \n",
      "\n",
      "                  0.1031\n",
      "                 \n"
     ]
    }
   ],
   "source": [
    "# Connect to website for data retrieval\n",
    "\n",
    "url = 'https://finance.yahoo.com/quote/BBBY?p=BBBY&.tsrc=fin-srch'\n",
    "\n",
    "headers = {\"User-Agent\": \"Mozilla/5.0 (Windows NT 10.0; Win64; x64) AppleWebKit/537.36 (KHTML, like Gecko) Chrome/109.0.0.0 Safari/537.36\"}\n",
    "\n",
    "page = requests.get(url, headers = headers)\n",
    "\n",
    "soup1 = BeautifulSoup(page.content, 'html.parser')\n",
    "\n",
    "soup2 = BeautifulSoup(soup1.prettify(), 'html.parser')\n",
    "\n",
    "title = soup2.find('h1', {'class':\"D(ib) Fz(18px)\"}).get_text()\n",
    "\n",
    "at_open = soup2.find('td',{'data-test':\"OPEN-value\"}).get_text()\n",
    "\n",
    "at_close = soup2.find('fin-streamer',{'class':\"Fw(b) Fz(36px) Mb(-4px) D(ib)\"}).get_text()\n",
    "\n",
    "# Test the data retrieval\n",
    "print(title)\n",
    "print(at_open)\n",
    "print(at_close)\n"
   ]
  },
  {
   "cell_type": "markdown",
   "id": "59676d72",
   "metadata": {},
   "source": [
    "Now that the data has been successfully retrieved, it is time to clean the data."
   ]
  },
  {
   "cell_type": "code",
   "execution_count": 3,
   "id": "4240fc43",
   "metadata": {},
   "outputs": [
    {
     "name": "stdout",
     "output_type": "stream",
     "text": [
      "Bed Bath & Beyond Inc\n",
      "BBBY\n"
     ]
    }
   ],
   "source": [
    "# Seaparting the company name from the ticker symbol\n",
    "title_strip = title.strip()\n",
    "\n",
    "title_strip = title_strip.split('.')\n",
    "\n",
    "# Getting the company name\n",
    "title = title_strip[0]\n",
    "\n",
    "# Getting the ticker symbol\n",
    "ticker = title_strip[1].strip().replace('(', '').replace(')', '')\n",
    "\n",
    "print(title)\n",
    "print(ticker)"
   ]
  },
  {
   "cell_type": "code",
   "execution_count": 4,
   "id": "bebf6b0d",
   "metadata": {},
   "outputs": [
    {
     "name": "stdout",
     "output_type": "stream",
     "text": [
      "0.1085\n"
     ]
    }
   ],
   "source": [
    "# Getting the at open price\n",
    "at_open_strip = at_open.strip()\n",
    "\n",
    "at_open = float(at_open_strip)\n",
    "\n",
    "print(at_open)"
   ]
  },
  {
   "cell_type": "code",
   "execution_count": 5,
   "id": "ee500aec",
   "metadata": {},
   "outputs": [
    {
     "name": "stdout",
     "output_type": "stream",
     "text": [
      "0.1031\n"
     ]
    }
   ],
   "source": [
    "# Getting the at close price\n",
    "at_close_strip = at_close.strip()\n",
    "\n",
    "at_close = float(at_close_strip)\n",
    "\n",
    "print(at_close)"
   ]
  },
  {
   "cell_type": "code",
   "execution_count": 81,
   "id": "af20a41d",
   "metadata": {},
   "outputs": [
    {
     "name": "stdout",
     "output_type": "stream",
     "text": [
      "2023-02-14\n"
     ]
    }
   ],
   "source": [
    "# Timestamp for data collection through scrapping\n",
    "import datetime\n",
    "\n",
    "today = datetime.date.today()\n",
    "\n",
    "print(today)"
   ]
  },
  {
   "cell_type": "code",
   "execution_count": 87,
   "id": "0fbd0051",
   "metadata": {},
   "outputs": [],
   "source": [
    "import csv\n",
    "\n",
    "header = ['Company', 'Ticker', 'Open', 'Close', 'Date Added']\n",
    "data = [title, ticker, at_open, at_close, today]\n",
    "\n",
    "# Lets create the first row of the data (ONLY run this once so the initial data is not deleted)\n",
    "\n",
    "# with open('BedBathBeyondStockWebScrapper.csv', 'w', newline= '', encoding= 'UTF8') as f:\n",
    "    \n",
    "#    writer = csv.writer(f)\n",
    "#    writer.writerow(header)  # intial insertion of data into csv\n",
    "#    writer.writerow(data)"
   ]
  },
  {
   "cell_type": "code",
   "execution_count": 90,
   "id": "8215ae52",
   "metadata": {},
   "outputs": [
    {
     "name": "stdout",
     "output_type": "stream",
     "text": [
      "                 Company Ticker   Open  Close  Date Added\n",
      "0  Bed Bath & Beyond Inc   BBBY  1.895   1.94  2023-02-14\n",
      "1  Bed Bath & Beyond Inc   BBBY  1.895   1.94  2023-02-14\n"
     ]
    }
   ],
   "source": [
    "import pandas as pd\n",
    "\n",
    "df = pd.read_csv(r'C:\\Users\\nerol\\BedBathBeyondStockWebScrapper.csv')\n",
    "\n",
    "print(df)"
   ]
  },
  {
   "cell_type": "code",
   "execution_count": 89,
   "id": "2055aca4",
   "metadata": {},
   "outputs": [],
   "source": [
    "# Append new data to the dataset\n",
    "\n",
    "with open('BedBathBeyondStockWebScrapper.csv', 'a+', newline= '', encoding= 'UTF8') as f: # a+ helps append new data\n",
    "    \n",
    "    writer = csv.writer(f)\n",
    "    writer.writerow(data)"
   ]
  },
  {
   "cell_type": "markdown",
   "id": "57973405",
   "metadata": {},
   "source": [
    "It is time to automate our stock price retrieval."
   ]
  },
  {
   "cell_type": "code",
   "execution_count": 2,
   "id": "d753e2f5",
   "metadata": {},
   "outputs": [],
   "source": [
    "# Automating the process of apending new data to the dataset\n",
    "\n",
    "def scrape_data():\n",
    "    url = 'https://finance.yahoo.com/quote/BBBY?p=BBBY&.tsrc=fin-srch'\n",
    "\n",
    "    headers = {\"User-Agent\": \"Mozilla/5.0 (Windows NT 10.0; Win64; x64) AppleWebKit/537.36 (KHTML, like Gecko) Chrome/109.0.0.0 Safari/537.36\"}\n",
    "\n",
    "    page = requests.get(url, headers = headers)\n",
    "\n",
    "    soup1 = BeautifulSoup(page.content, 'html.parser')\n",
    "\n",
    "    soup2 = BeautifulSoup(soup1.prettify(), 'html.parser')\n",
    "\n",
    "    title = soup2.find('h1', {'class':\"D(ib) Fz(18px)\"}).get_text()\n",
    "\n",
    "    at_open = soup2.find('td',{'data-test':\"OPEN-value\"}).get_text()\n",
    "\n",
    "    at_close = soup2.find('fin-streamer',{'class':\"Fw(b) Fz(36px) Mb(-4px) D(ib)\"}).get_text()\n",
    "    \n",
    "    # Format data to look consistent\n",
    "    title_strip = title.strip()\n",
    "    title_strip = title_strip.split('.')\n",
    "    title = title_strip[0]\n",
    "    ticker = title_strip[1].strip().replace('(', '').replace(')', '')\n",
    "    \n",
    "    at_open_strip = at_open.strip()\n",
    "    at_open = float(at_open_strip)\n",
    "\n",
    "    at_close_strip = at_close.strip()\n",
    "    at_close = float(at_close_strip)\n",
    "    \n",
    "    # Record the date data is added\n",
    "    import datetime\n",
    "\n",
    "    today = datetime.date.today()\n",
    "    \n",
    "    # Create the data labels and values\n",
    "    import csv\n",
    "\n",
    "    header = ['Company', 'Ticker', 'Open', 'Close', 'Date Added']\n",
    "    data = [title, ticker, at_open, at_close, today]\n",
    "    \n",
    "    # Append the new data\n",
    "    with open('BedBathBeyondStockWebScrapper.csv', 'a+', newline= '', encoding= 'UTF8') as f: # a+ helps append new data\n",
    "    \n",
    "        writer = csv.writer(f)\n",
    "        writer.writerow(data)\n"
   ]
  },
  {
   "cell_type": "code",
   "execution_count": null,
   "id": "36996e0d",
   "metadata": {
    "scrolled": false
   },
   "outputs": [],
   "source": [
    "# Collect BBBY stock data every four hours\n",
    "while True:\n",
    "    scrape_data()\n",
    "    time.sleep(14400)"
   ]
  },
  {
   "cell_type": "code",
   "execution_count": 13,
   "id": "36912ff9",
   "metadata": {},
   "outputs": [
    {
     "data": {
      "text/html": [
       "<div>\n",
       "<style scoped>\n",
       "    .dataframe tbody tr th:only-of-type {\n",
       "        vertical-align: middle;\n",
       "    }\n",
       "\n",
       "    .dataframe tbody tr th {\n",
       "        vertical-align: top;\n",
       "    }\n",
       "\n",
       "    .dataframe thead th {\n",
       "        text-align: right;\n",
       "    }\n",
       "</style>\n",
       "<table border=\"1\" class=\"dataframe\">\n",
       "  <thead>\n",
       "    <tr style=\"text-align: right;\">\n",
       "      <th></th>\n",
       "      <th>Company</th>\n",
       "      <th>Ticker</th>\n",
       "      <th>Open</th>\n",
       "      <th>Close</th>\n",
       "      <th>Date Added</th>\n",
       "    </tr>\n",
       "  </thead>\n",
       "  <tbody>\n",
       "    <tr>\n",
       "      <th>0</th>\n",
       "      <td>Bed Bath &amp; Beyond Inc</td>\n",
       "      <td>BBBY</td>\n",
       "      <td>1.895</td>\n",
       "      <td>1.94</td>\n",
       "      <td>2023-02-14</td>\n",
       "    </tr>\n",
       "    <tr>\n",
       "      <th>1</th>\n",
       "      <td>Bed Bath &amp; Beyond Inc</td>\n",
       "      <td>BBBY</td>\n",
       "      <td>1.895</td>\n",
       "      <td>1.94</td>\n",
       "      <td>2023-02-14</td>\n",
       "    </tr>\n",
       "    <tr>\n",
       "      <th>2</th>\n",
       "      <td>Bed Bath &amp; Beyond Inc</td>\n",
       "      <td>BBBY</td>\n",
       "      <td>1.895</td>\n",
       "      <td>1.94</td>\n",
       "      <td>2023-02-14</td>\n",
       "    </tr>\n",
       "    <tr>\n",
       "      <th>3</th>\n",
       "      <td>Bed Bath &amp; Beyond Inc</td>\n",
       "      <td>BBBY</td>\n",
       "      <td>1.895</td>\n",
       "      <td>1.94</td>\n",
       "      <td>2023-02-14</td>\n",
       "    </tr>\n",
       "    <tr>\n",
       "      <th>4</th>\n",
       "      <td>Bed Bath &amp; Beyond Inc</td>\n",
       "      <td>BBBY</td>\n",
       "      <td>1.895</td>\n",
       "      <td>1.94</td>\n",
       "      <td>2023-02-14</td>\n",
       "    </tr>\n",
       "  </tbody>\n",
       "</table>\n",
       "</div>"
      ],
      "text/plain": [
       "                 Company Ticker   Open  Close  Date Added\n",
       "0  Bed Bath & Beyond Inc   BBBY  1.895   1.94  2023-02-14\n",
       "1  Bed Bath & Beyond Inc   BBBY  1.895   1.94  2023-02-14\n",
       "2  Bed Bath & Beyond Inc   BBBY  1.895   1.94  2023-02-14\n",
       "3  Bed Bath & Beyond Inc   BBBY  1.895   1.94  2023-02-14\n",
       "4  Bed Bath & Beyond Inc   BBBY  1.895   1.94  2023-02-14"
      ]
     },
     "execution_count": 13,
     "metadata": {},
     "output_type": "execute_result"
    }
   ],
   "source": [
    "# Check the .csv file for updates\n",
    "import pandas as pd\n",
    "\n",
    "stock_df = pd.read_csv('C:/Users/nerol/Personal Notebooks and notes/BedBathBeyondStockWebScrapper.csv')\n",
    "\n",
    "stock_df.head()"
   ]
  },
  {
   "cell_type": "code",
   "execution_count": 31,
   "id": "9dbb843b",
   "metadata": {},
   "outputs": [],
   "source": [
    "stock_df['Date Added'] = pd.to_datetime(stock_df['Date Added'])"
   ]
  },
  {
   "cell_type": "code",
   "execution_count": 33,
   "id": "4747292a",
   "metadata": {},
   "outputs": [],
   "source": [
    "stock_df['Date MMDD'] = stock_df['Date Added'].dt.strftime('%m-%d')"
   ]
  },
  {
   "cell_type": "code",
   "execution_count": 12,
   "id": "8b265231",
   "metadata": {},
   "outputs": [],
   "source": [
    "import matplotlib.pyplot as plt\n",
    "import seaborn as sns\n",
    "\n",
    "%matplotlib inline"
   ]
  },
  {
   "cell_type": "code",
   "execution_count": 45,
   "id": "f825a8a6",
   "metadata": {},
   "outputs": [
    {
     "data": {
      "image/png": "[encoded data removed]",
      "text/plain": [
       "<Figure size 1000x500 with 1 Axes>"
      ]
     },
     "metadata": {},
     "output_type": "display_data"
    }
   ],
   "source": [
    "# Setting the figure\n",
    "plt.figure(figsize= (10, 5))\n",
    "\n",
    "# Open price line\n",
    "sns.lineplot(data= stock_df, x= 'Date MMDD', y= 'Open', label= 'Open Price',\n",
    "            alpha = 0.5)\n",
    "\n",
    "# Close price line\n",
    "sns.lineplot(data= stock_df, x= 'Date MMDD', y= 'Close', label= 'Close Price',\n",
    "            ls= '--')\n",
    "\n",
    "# Chart elements\n",
    "plt.xlabel('Date')\n",
    "plt.ylabel('Price')\n",
    "plt.title('BBBY Stock For 2023')\n",
    "plt.xticks(range(0, len(stock_df), 3))\n",
    "plt.margins(x= 0)\n",
    "plt.tight_layout()"
   ]
  },
  {
   "cell_type": "code",
   "execution_count": null,
   "id": "6c4cf99e",
   "metadata": {},
   "outputs": [],
   "source": []
  }
 ],
 "metadata": {
  "kernelspec": {
   "display_name": "Python 3 (ipykernel)",
   "language": "python",
   "name": "python3"
  },
  "language_info": {
   "codemirror_mode": {
    "name": "ipython",
    "version": 3
   },
   "file_extension": ".py",
   "mimetype": "text/x-python",
   "name": "python",
   "nbconvert_exporter": "python",
   "pygments_lexer": "ipython3",
   "version": "3.9.13"
  }
 },
 "nbformat": 4,
 "nbformat_minor": 5
}
